{
 "cells": [
  {
   "cell_type": "markdown",
   "metadata": {},
   "source": [
    "# 1.\tNumpy Random Package:\n",
    "\n",
    "The definition of a random number is not supposed to be a distinct number every time, but it means that the random number cannot be predicted logically.\n",
    "The random is a module which is exists in the python numpy library. Random package contains the methods which is usually used for the generation of random numbers. Also, this package contains other some random data generation functions, and permutation and distribution functions.\n",
    "The package is divided into three main types of methods which are:\n",
    "1.\tSimple random data\n",
    "2.\tPermutations \n",
    "3.\tDistributions\n"
   ]
  },
  {
   "cell_type": "markdown",
   "metadata": {},
   "source": [
    "## Importing libraries"
   ]
  },
  {
   "cell_type": "code",
   "execution_count": 1,
   "metadata": {},
   "outputs": [],
   "source": [
    "import numpy as np\n",
    "import matplotlib.pyplot as plt\n",
    "import seaborn as sns\n",
    "import warnings\n",
    "warnings.filterwarnings('ignore')"
   ]
  },
  {
   "cell_type": "markdown",
   "metadata": {},
   "source": [
    "## 2a.  Simple Data Distribution:\n",
    "\n",
    "Simple data distribution is used to draw random data or choice from a predefined dataset. Simple random data is draw using different methods of numpy random package which are used in different types of requirements of the program are as follows:\n",
    "\n",
    "1.\t“integer”, which returns random integers.\n",
    "2.\t“random”, which returns random floats.\n",
    "3.\t“choice”, which returns sample from a given data e.g. array.\n",
    "4.\t“bytes”, which returns random bytes.\n"
   ]
  },
  {
   "cell_type": "code",
   "execution_count": 2,
   "metadata": {},
   "outputs": [
    {
     "name": "stdout",
     "output_type": "stream",
     "text": [
      "[0 0 1 1 1 0 0 1 1 1]\n",
      "[ 2  6  7 10  6  8  2  9  7  9]\n"
     ]
    }
   ],
   "source": [
    "# Generators.integers()\n",
    "# Return random integers from low (inclusive) to high (exclusive).\n",
    "array = np.random.randint(2, size=10)\n",
    "print(array)\n",
    "\n",
    "array2 = np.random.random_integers(low=2, high=10, size=10)\n",
    "print(array2)"
   ]
  },
  {
   "cell_type": "code",
   "execution_count": 3,
   "metadata": {},
   "outputs": [
    {
     "name": "stdout",
     "output_type": "stream",
     "text": [
      "0.26936479252705303\n"
     ]
    }
   ],
   "source": [
    "# Return random floats in the half-open interval [0.0, 1.0).\n",
    "\n",
    "rand = np.random.random()\n",
    "print(rand)"
   ]
  },
  {
   "cell_type": "code",
   "execution_count": 4,
   "metadata": {},
   "outputs": [
    {
     "name": "stdout",
     "output_type": "stream",
     "text": [
      "[1 7 5]\n",
      "[6 9 8 6]\n"
     ]
    }
   ],
   "source": [
    "# Generator.choice(a, size=None, replace=True, p=None, axis=0, shuffle=True)¶\n",
    "# Generates a random sample from a given 1-D array \n",
    "rand_choice = np.random.choice(10, 3)\n",
    "print(rand_choice)\n",
    "\n",
    "# randomly choice from given array\n",
    "rand_choice = np.random.choice([10,9,8,7,6], 4)\n",
    "print(rand_choice)"
   ]
  },
  {
   "cell_type": "code",
   "execution_count": 5,
   "metadata": {},
   "outputs": [
    {
     "name": "stdout",
     "output_type": "stream",
     "text": [
      "b'\\xc7}J\\x04'\n"
     ]
    }
   ],
   "source": [
    "# Generator.bytes(length)\n",
    "# Return random bytes.\n",
    "\n",
    "rand_byte = np.random.bytes(4)\n",
    "print(rand_byte)"
   ]
  },
  {
   "cell_type": "code",
   "execution_count": null,
   "metadata": {},
   "outputs": [],
   "source": []
  },
  {
   "cell_type": "code",
   "execution_count": null,
   "metadata": {},
   "outputs": [],
   "source": []
  }
 ],
 "metadata": {
  "kernelspec": {
   "display_name": "Python 3",
   "language": "python",
   "name": "python3"
  },
  "language_info": {
   "codemirror_mode": {
    "name": "ipython",
    "version": 3
   },
   "file_extension": ".py",
   "mimetype": "text/x-python",
   "name": "python",
   "nbconvert_exporter": "python",
   "pygments_lexer": "ipython3",
   "version": "3.6.12"
  }
 },
 "nbformat": 4,
 "nbformat_minor": 4
}
