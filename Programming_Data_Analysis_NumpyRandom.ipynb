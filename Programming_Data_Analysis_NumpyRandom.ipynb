{
 "cells": [
  {
   "cell_type": "markdown",
   "metadata": {},
   "source": [
    "# 1.\tNumpy Random Package:\n",
    "\n",
    "The definition of a random number is not supposed to be a distinct number every time, but it means that the random number cannot be predicted logically.\n",
    "The random is a module which is exists in the python numpy library. Random package contains the methods which is usually used for the generation of random numbers. Also, this package contains other some random data generation functions, and permutation and distribution functions.\n",
    "The package is divided into three main types of methods which are:\n",
    "1.\tSimple random data\n",
    "2.\tPermutations \n",
    "3.\tDistributions\n"
   ]
  },
  {
   "cell_type": "markdown",
   "metadata": {},
   "source": [
    "## Importing libraries"
   ]
  },
  {
   "cell_type": "code",
   "execution_count": 1,
   "metadata": {},
   "outputs": [],
   "source": [
    "import numpy as np\n",
    "import matplotlib.pyplot as plt\n",
    "import seaborn as sns\n",
    "import warnings\n",
    "warnings.filterwarnings('ignore')"
   ]
  },
  {
   "cell_type": "markdown",
   "metadata": {},
   "source": [
    "## 2a.  Simple Data Distribution:\n",
    "\n",
    "Simple data distribution is used to draw random data or choice from a predefined dataset. Simple random data is draw using different methods of numpy random package which are used in different types of requirements of the program are as follows:\n",
    "\n",
    "1.\t“integer”, which returns random integers.\n",
    "2.\t“random”, which returns random floats.\n",
    "3.\t“choice”, which returns sample from a given data e.g. array.\n",
    "4.\t“bytes”, which returns random bytes.\n"
   ]
  },
  {
   "cell_type": "code",
   "execution_count": 2,
   "metadata": {},
   "outputs": [
    {
     "name": "stdout",
     "output_type": "stream",
     "text": [
      "[0 0 1 1 1 0 0 1 1 1]\n",
      "[ 2  6  7 10  6  8  2  9  7  9]\n"
     ]
    }
   ],
   "source": [
    "# Generators.integers()\n",
    "# Return random integers from low (inclusive) to high (exclusive).\n",
    "array = np.random.randint(2, size=10)\n",
    "print(array)\n",
    "\n",
    "array2 = np.random.random_integers(low=2, high=10, size=10)\n",
    "print(array2)"
   ]
  },
  {
   "cell_type": "code",
   "execution_count": 3,
   "metadata": {},
   "outputs": [
    {
     "name": "stdout",
     "output_type": "stream",
     "text": [
      "0.26936479252705303\n"
     ]
    }
   ],
   "source": [
    "# Return random floats in the half-open interval [0.0, 1.0).\n",
    "\n",
    "rand = np.random.random()\n",
    "print(rand)"
   ]
  },
  {
   "cell_type": "code",
   "execution_count": 4,
   "metadata": {},
   "outputs": [
    {
     "name": "stdout",
     "output_type": "stream",
     "text": [
      "[1 7 5]\n",
      "[6 9 8 6]\n"
     ]
    }
   ],
   "source": [
    "# Generator.choice(a, size=None, replace=True, p=None, axis=0, shuffle=True)¶\n",
    "# Generates a random sample from a given 1-D array \n",
    "rand_choice = np.random.choice(10, 3)\n",
    "print(rand_choice)\n",
    "\n",
    "# randomly choice from given array\n",
    "rand_choice = np.random.choice([10,9,8,7,6], 4)\n",
    "print(rand_choice)"
   ]
  },
  {
   "cell_type": "code",
   "execution_count": 5,
   "metadata": {},
   "outputs": [
    {
     "name": "stdout",
     "output_type": "stream",
     "text": [
      "b'\\xc7}J\\x04'\n"
     ]
    }
   ],
   "source": [
    "# Generator.bytes(length)\n",
    "# Return random bytes.\n",
    "\n",
    "rand_byte = np.random.bytes(4)\n",
    "print(rand_byte)"
   ]
  },
  {
   "cell_type": "markdown",
   "metadata": {},
   "source": [
    "## 2b.\tPermutations:\n",
    "\n",
    "Permutations is defined as an arrangement of members of a set. We use permutation to shuffle or permute the sequence of data. In numpy random package there are two types of permutation functions are:\n",
    "1.\t“shuffle”, which modifies am array in place by shuffling its members.\n",
    "2.\t“permutation”, which randomly permutes an array or also can return a permuted array.\n"
   ]
  },
  {
   "cell_type": "code",
   "execution_count": 6,
   "metadata": {},
   "outputs": [
    {
     "name": "stdout",
     "output_type": "stream",
     "text": [
      "[0 1 2 3 4 5 6 7 8 9]\n",
      "[0 8 6 7 9 1 2 5 3 4]\n"
     ]
    }
   ],
   "source": [
    "# Generator.shuffle(x, axis=0)\n",
    "# Modify a sequence in-place by shuffling its contents.\n",
    "# The order of arrays is changed but their contents remains the same.\n",
    "\n",
    "array = np.arange(10)\n",
    "print(array)\n",
    "np.random.shuffle(array)\n",
    "print(array)"
   ]
  },
  {
   "cell_type": "code",
   "execution_count": 7,
   "metadata": {},
   "outputs": [
    {
     "name": "stdout",
     "output_type": "stream",
     "text": [
      "[4 5 0 3 2 1]\n",
      "[ 8  9  1  3  6  0  5  7 11  4 10  2]\n"
     ]
    }
   ],
   "source": [
    "# Generator.permutation(x, axis=0)\n",
    "# Randomly permute a sequence, or return a permuted range.\n",
    "\n",
    "array = np.random.permutation(6)  \n",
    "print(array)  \n",
    "\n",
    "arr = [ 0, 11,  2,  6,  8,  3,  7,  5,  9,  4, 10,  1]\n",
    "arr = np.random.permutation(arr)  \n",
    "print(arr)  "
   ]
  },
  {
   "cell_type": "markdown",
   "metadata": {},
   "source": [
    "## 3.\tDistribution Function:\n",
    "\n",
    "There is a plenty of methods in numpy random package to draw the sample from a sequence of data. In this assignment we will discuss the five methods from numpy random package. \n"
   ]
  },
  {
   "cell_type": "markdown",
   "metadata": {},
   "source": [
    "### 1.\tBinomial Distribution:\n",
    "\n",
    "Binomial distribution also known as discrete distribution. We use binomial distribution when we have the outcome of binary values like “toss of a coin”, the outcome of this will be either head or tails.\n",
    "\n",
    "    Binomial distribution has 3 parameters:\n",
    "    n = total number of trials.\n",
    "    p = probability of occurrence of every trail\n",
    "    size = shape of returned array."
   ]
  },
  {
   "cell_type": "code",
   "execution_count": 8,
   "metadata": {},
   "outputs": [
    {
     "data": {
      "image/png": "[encoded data removed]",
      "text/plain": [
       "<Figure size 432x288 with 1 Axes>"
      ]
     },
     "metadata": {
      "needs_background": "light"
     },
     "output_type": "display_data"
    }
   ],
   "source": [
    "# binomial distribution visualization\n",
    "\n",
    "binomial_dist = np.random.binomial(n=10, p=0.5, size=1000)\n",
    "sns.distplot(binomial_dist,kde=False, color=\"green\", axlabel='binomial simulation results')\n",
    "plt.show()"
   ]
  },
  {
   "cell_type": "markdown",
   "metadata": {},
   "source": [
    "### 2.\tNormal Distribution:\n",
    "\n",
    "The normal distribution is one of the most generally used distributions. It is also known as Gaussian Distribution.  We used the normal distribution to fit the probability distributions like events of scores, heartbeat, or continuous data.\n",
    "\n",
    "    Normal Distribution has 1 required parameter:\n",
    "    size = shape of returned array.\n"
   ]
  },
  {
   "cell_type": "code",
   "execution_count": 9,
   "metadata": {},
   "outputs": [
    {
     "data": {
      "image/png": "[encoded data removed]",
      "text/plain": [
       "<Figure size 432x288 with 1 Axes>"
      ]
     },
     "metadata": {
      "needs_background": "light"
     },
     "output_type": "display_data"
    }
   ],
   "source": [
    "# normal distribution visualization\n",
    "\n",
    "normal_dist = np.random.normal(size=1000)\n",
    "sns.distplot(normal_dist, hist=False, axlabel='normal simulation results')\n",
    "plt.show()"
   ]
  },
  {
   "cell_type": "markdown",
   "metadata": {},
   "source": [
    "### 3.\tPoisson Distribution:\n",
    "\n",
    "Poisson distribution is same as discrete distribution. It is used to estimate that how many times an event can occur within a specified period. For example, if there is a rain twice a day’s then what is the probability of three time of rains in a day.\n",
    "    \n",
    "    Poisson distribution has 2 parameters:\n",
    "    lam = number of occurrence (known)\n",
    "    size = shape of returned array.\n"
   ]
  },
  {
   "cell_type": "code",
   "execution_count": 10,
   "metadata": {},
   "outputs": [
    {
     "data": {
      "image/png": "[encoded data removed]",
      "text/plain": [
       "<Figure size 432x288 with 1 Axes>"
      ]
     },
     "metadata": {
      "needs_background": "light"
     },
     "output_type": "display_data"
    }
   ],
   "source": [
    "# poisson distribution visualization\n",
    "\n",
    "poisson_dist = np.random.poisson(lam=2, size=1000)\n",
    "sns.distplot(poisson_dist, kde=False, color=\"green\", axlabel='poisson simulation results')\n",
    "plt.show()"
   ]
  },
  {
   "cell_type": "markdown",
   "metadata": {},
   "source": [
    "### 4.\tExponential Distribution:\n",
    "\n",
    "We used exponential distribution when we must describe the time till the next event either failure or success.\n",
    "\n",
    "    Exponential distribution has 2 parameters:\n",
    "    scale = inverse of known no. of occurrences.\n",
    "    size = shape of returned array.\n"
   ]
  },
  {
   "cell_type": "code",
   "execution_count": 11,
   "metadata": {},
   "outputs": [
    {
     "data": {
      "image/png": "[encoded data removed]",
      "text/plain": [
       "<Figure size 432x288 with 1 Axes>"
      ]
     },
     "metadata": {
      "needs_background": "light"
     },
     "output_type": "display_data"
    }
   ],
   "source": [
    "# exponential distribution visualization\n",
    "\n",
    "exponential_dist = np.random.exponential(size=1000)\n",
    "sns.distplot(exponential_dist, hist=False, axlabel='exponential simulation results')\n",
    "plt.show()\n"
   ]
  },
  {
   "cell_type": "markdown",
   "metadata": {},
   "source": [
    "### 5.\tUniform Distribution:\n",
    "\n",
    "We used uniform distribution where every event has an equal chance of occurring.\n",
    "\n",
    "    Uniform distribution has 1 required\n",
    "    size = shape of returned array.\n"
   ]
  },
  {
   "cell_type": "code",
   "execution_count": 12,
   "metadata": {},
   "outputs": [
    {
     "data": {
      "image/png": "[encoded data removed]",
      "text/plain": [
       "<Figure size 432x288 with 1 Axes>"
      ]
     },
     "metadata": {
      "needs_background": "light"
     },
     "output_type": "display_data"
    }
   ],
   "source": [
    "# uniform distribution visualization\n",
    "\n",
    "uniform_dist = np.random.uniform(size=1000)\n",
    "sns.distplot(uniform_dist, hist=False, axlabel='uniform simulation results')\n",
    "plt.show()"
   ]
  },
  {
   "cell_type": "markdown",
   "metadata": {},
   "source": [
    "## 4.\tNumpy Random Seed Function:\n",
    "\n",
    "The numpy random numbers works by starting with a number called seed, then process it with an algorithm and then the resulting number is then used as the seed for the next random number. When we set the seed using “numpy.random.seed” function the random function will return the same random number each time when we provide the same seed. \n"
   ]
  },
  {
   "cell_type": "code",
   "execution_count": 13,
   "metadata": {},
   "outputs": [
    {
     "name": "stdout",
     "output_type": "stream",
     "text": [
      "using Seed function\n",
      "[0.5488135  0.71518937 0.60276338 0.54488318]\n",
      "[0.5488135  0.71518937 0.60276338 0.54488318]\n"
     ]
    }
   ],
   "source": [
    "print(\"using Seed function\")\n",
    "np.random.seed(0) \n",
    "print(np.random.rand(4))\n",
    "# again draw random sample with same seed\n",
    "np.random.seed(0)\n",
    "print(np.random.rand(4))\n",
    "# output is same"
   ]
  },
  {
   "cell_type": "code",
   "execution_count": 14,
   "metadata": {},
   "outputs": [
    {
     "name": "stdout",
     "output_type": "stream",
     "text": [
      "Without using Seed function\n",
      "[0.5488135  0.71518937 0.60276338 0.54488318]\n",
      "[0.4236548  0.64589411 0.43758721 0.891773  ]\n"
     ]
    }
   ],
   "source": [
    "print(\"Without using Seed function\")\n",
    "np.random.seed(0) \n",
    "print(np.random.rand(4))\n",
    "# again draw random sample without seed\n",
    "print(np.random.rand(4))\n",
    "# output is different"
   ]
  },
  {
   "cell_type": "code",
   "execution_count": null,
   "metadata": {},
   "outputs": [],
   "source": []
  }
 ],
 "metadata": {
  "kernelspec": {
   "display_name": "Python 3",
   "language": "python",
   "name": "python3"
  },
  "language_info": {
   "codemirror_mode": {
    "name": "ipython",
    "version": 3
   },
   "file_extension": ".py",
   "mimetype": "text/x-python",
   "name": "python",
   "nbconvert_exporter": "python",
   "pygments_lexer": "ipython3",
   "version": "3.6.12"
  }
 },
 "nbformat": 4,
 "nbformat_minor": 4
}
